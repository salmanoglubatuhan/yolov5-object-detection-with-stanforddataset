{
  "nbformat": 4,
  "nbformat_minor": 0,
  "metadata": {
    "colab": {
      "name": "stanford-dronedata-yoloV5-part6.ipynb",
      "provenance": [],
      "collapsed_sections": [],
      "authorship_tag": "ABX9TyPlgf5E12jXAMC3voMuP1rY",
      "include_colab_link": true
    },
    "kernelspec": {
      "name": "python3",
      "display_name": "Python 3"
    },
    "accelerator": "GPU"
  },
  "cells": [
    {
      "cell_type": "markdown",
      "metadata": {
        "id": "view-in-github",
        "colab_type": "text"
      },
      "source": [
        "<a href=\"https://colab.research.google.com/github/salmanoglubatuhan/yolov5-object-detection-with-stanforddataset/blob/main/stanford_dronedata_yoloV5_part6.ipynb\" target=\"_parent\"><img src=\"https://colab.research.google.com/assets/colab-badge.svg\" alt=\"Open In Colab\"/></a>"
      ]
    },
    {
      "cell_type": "code",
      "metadata": {
        "id": "cpCFnNE7thvo"
      },
      "source": [
        "!git clone https://github.com/NVIDIA/apex && cd apex && pip install -v --no-cache-dir --global-option=\"--cpp_ext\" --global-option=\"--cuda_ext\" . --user && cd .. && rm -rf apex"
      ],
      "execution_count": null,
      "outputs": []
    },
    {
      "cell_type": "code",
      "metadata": {
        "colab": {
          "base_uri": "https://localhost:8080/"
        },
        "id": "Xc0rWNQo_E1L",
        "outputId": "2c5901c8-9956-417e-b176-f96e13c5f04e"
      },
      "source": [
        "from google.colab import drive\r\n",
        "drive.mount(\"/content/drive\")"
      ],
      "execution_count": null,
      "outputs": [
        {
          "output_type": "stream",
          "text": [
            "Mounted at /content/drive\n"
          ],
          "name": "stdout"
        }
      ]
    },
    {
      "cell_type": "code",
      "metadata": {
        "colab": {
          "base_uri": "https://localhost:8080/"
        },
        "id": "AUxXHUeqlf9L",
        "outputId": "972fa422-210e-4a5d-9fd8-83476f44e555"
      },
      "source": [
        "#!pip install PyYAML==5.3.1"
      ],
      "execution_count": null,
      "outputs": [
        {
          "output_type": "stream",
          "text": [
            "Collecting PyYAML==5.3.1\n",
            "\u001b[?25l  Downloading https://files.pythonhosted.org/packages/64/c2/b80047c7ac2478f9501676c988a5411ed5572f35d1beff9cae07d321512c/PyYAML-5.3.1.tar.gz (269kB)\n",
            "\r\u001b[K     |█▏                              | 10kB 21.9MB/s eta 0:00:01\r\u001b[K     |██▍                             | 20kB 18.7MB/s eta 0:00:01\r\u001b[K     |███▋                            | 30kB 10.7MB/s eta 0:00:01\r\u001b[K     |████▉                           | 40kB 9.1MB/s eta 0:00:01\r\u001b[K     |██████                          | 51kB 7.7MB/s eta 0:00:01\r\u001b[K     |███████▎                        | 61kB 8.2MB/s eta 0:00:01\r\u001b[K     |████████▌                       | 71kB 8.4MB/s eta 0:00:01\r\u001b[K     |█████████▊                      | 81kB 8.2MB/s eta 0:00:01\r\u001b[K     |███████████                     | 92kB 7.9MB/s eta 0:00:01\r\u001b[K     |████████████▏                   | 102kB 7.1MB/s eta 0:00:01\r\u001b[K     |█████████████▍                  | 112kB 7.1MB/s eta 0:00:01\r\u001b[K     |██████████████▋                 | 122kB 7.1MB/s eta 0:00:01\r\u001b[K     |███████████████▉                | 133kB 7.1MB/s eta 0:00:01\r\u001b[K     |█████████████████               | 143kB 7.1MB/s eta 0:00:01\r\u001b[K     |██████████████████▎             | 153kB 7.1MB/s eta 0:00:01\r\u001b[K     |███████████████████▌            | 163kB 7.1MB/s eta 0:00:01\r\u001b[K     |████████████████████▊           | 174kB 7.1MB/s eta 0:00:01\r\u001b[K     |██████████████████████          | 184kB 7.1MB/s eta 0:00:01\r\u001b[K     |███████████████████████▏        | 194kB 7.1MB/s eta 0:00:01\r\u001b[K     |████████████████████████▎       | 204kB 7.1MB/s eta 0:00:01\r\u001b[K     |█████████████████████████▌      | 215kB 7.1MB/s eta 0:00:01\r\u001b[K     |██████████████████████████▊     | 225kB 7.1MB/s eta 0:00:01\r\u001b[K     |████████████████████████████    | 235kB 7.1MB/s eta 0:00:01\r\u001b[K     |█████████████████████████████▏  | 245kB 7.1MB/s eta 0:00:01\r\u001b[K     |██████████████████████████████▍ | 256kB 7.1MB/s eta 0:00:01\r\u001b[K     |███████████████████████████████▋| 266kB 7.1MB/s eta 0:00:01\r\u001b[K     |████████████████████████████████| 276kB 7.1MB/s \n",
            "\u001b[?25hBuilding wheels for collected packages: PyYAML\n",
            "  Building wheel for PyYAML (setup.py) ... \u001b[?25l\u001b[?25hdone\n",
            "  Created wheel for PyYAML: filename=PyYAML-5.3.1-cp36-cp36m-linux_x86_64.whl size=44621 sha256=0d6a1d575a3151c2b5f2846be1d134822a0bc9db2d1ea6c1795a22a4640d2d07\n",
            "  Stored in directory: /root/.cache/pip/wheels/a7/c1/ea/cf5bd31012e735dc1dfea3131a2d5eae7978b251083d6247bd\n",
            "Successfully built PyYAML\n",
            "Installing collected packages: PyYAML\n",
            "  Found existing installation: PyYAML 3.13\n",
            "    Uninstalling PyYAML-3.13:\n",
            "      Successfully uninstalled PyYAML-3.13\n",
            "Successfully installed PyYAML-5.3.1\n"
          ],
          "name": "stdout"
        }
      ]
    },
    {
      "cell_type": "code",
      "metadata": {
        "id": "o13bnn0P30gy"
      },
      "source": [
        "from zipfile import ZipFile\r\n",
        "zf = ZipFile('/content/drive/MyDrive/dataset_2800.zip', 'r')\r\n",
        "zf.extractall('dataset')\r\n",
        "zf.close()"
      ],
      "execution_count": null,
      "outputs": []
    },
    {
      "cell_type": "code",
      "metadata": {
        "id": "idXCqXYcedMq"
      },
      "source": [
        "#!git clone https://github.com/salmanoglubatuhan/object-detection"
      ],
      "execution_count": null,
      "outputs": []
    },
    {
      "cell_type": "code",
      "metadata": {
        "id": "a71TCDkFogXs"
      },
      "source": [
        "!git clone https://github.com/ultralytics/yolov5\r\n",
        "%cd yolov5\r\n",
        "#!git reset --hard 68211f72c99915a15855f7b99bf5d93f5631330f"
      ],
      "execution_count": null,
      "outputs": []
    },
    {
      "cell_type": "code",
      "metadata": {
        "id": "-G16-dFvnuiZ"
      },
      "source": [
        "!pip install -r requirements.txt"
      ],
      "execution_count": null,
      "outputs": []
    },
    {
      "cell_type": "code",
      "metadata": {
        "id": "tpOruJiopA4v",
        "colab": {
          "base_uri": "https://localhost:8080/"
        },
        "outputId": "97c7575c-8833-4c99-b38b-4067968166b3"
      },
      "source": [
        "\r\n",
        "!python train.py --img 1088 --batch 4 --epochs 30  \\\r\n",
        "  --data /content/result.yml --cfg ./models/yolov5m.yaml --weights yolov5m.pt \\\r\n",
        "  --name yolov5s_results --cache\r\n"
      ],
      "execution_count": null,
      "outputs": [
        {
          "output_type": "stream",
          "text": [
            "\u001b[34m\u001b[1mgithub: \u001b[0mup to date with https://github.com/ultralytics/yolov5 ✅\n",
            "YOLOv5 v4.0-77-g3e560e2 torch 1.7.0+cu101 CUDA:0 (Tesla T4, 15109.75MB)\n",
            "\n",
            "Namespace(adam=False, batch_size=4, bucket='', cache_images=True, cfg='./models/yolov5m.yaml', data='/content/result.yml', device='', epochs=30, evolve=False, exist_ok=False, global_rank=-1, hyp='data/hyp.scratch.yaml', image_weights=False, img_size=[1088, 1088], linear_lr=False, local_rank=-1, log_artifacts=False, log_imgs=16, multi_scale=False, name='yolov5s_results', noautoanchor=False, nosave=False, notest=False, project='runs/train', quad=False, rect=False, resume=False, save_dir='runs/train/yolov5s_results', single_cls=False, sync_bn=False, total_batch_size=4, weights='yolov5m.pt', workers=8, world_size=1)\n",
            "\u001b[34m\u001b[1mwandb: \u001b[0mInstall Weights & Biases for YOLOv5 logging with 'pip install wandb' (recommended)\n",
            "Start Tensorboard with \"tensorboard --logdir runs/train\", view at http://localhost:6006/\n",
            "2021-02-14 17:16:09.615032: I tensorflow/stream_executor/platform/default/dso_loader.cc:49] Successfully opened dynamic library libcudart.so.10.1\n",
            "\u001b[34m\u001b[1mhyperparameters: \u001b[0mlr0=0.01, lrf=0.2, momentum=0.937, weight_decay=0.0005, warmup_epochs=3.0, warmup_momentum=0.8, warmup_bias_lr=0.1, box=0.05, cls=0.5, cls_pw=1.0, obj=1.0, obj_pw=1.0, iou_t=0.2, anchor_t=4.0, fl_gamma=0.0, hsv_h=0.015, hsv_s=0.7, hsv_v=0.4, degrees=0.0, translate=0.1, scale=0.5, shear=0.0, perspective=0.0, flipud=0.0, fliplr=0.5, mosaic=1.0, mixup=0.0\n",
            "Downloading https://github.com/ultralytics/yolov5/releases/download/v4.0/yolov5m.pt to yolov5m.pt...\n",
            "100% 41.1M/41.1M [00:00<00:00, 45.1MB/s]\n",
            "\n",
            "\n",
            "                 from  n    params  module                                  arguments                     \n",
            "  0                -1  1      5280  models.common.Focus                     [3, 48, 3]                    \n",
            "  1                -1  1     41664  models.common.Conv                      [48, 96, 3, 2]                \n",
            "  2                -1  1     65280  models.common.C3                        [96, 96, 2]                   \n",
            "  3                -1  1    166272  models.common.Conv                      [96, 192, 3, 2]               \n",
            "  4                -1  1    629760  models.common.C3                        [192, 192, 6]                 \n",
            "  5                -1  1    664320  models.common.Conv                      [192, 384, 3, 2]              \n",
            "  6                -1  1   2512896  models.common.C3                        [384, 384, 6]                 \n",
            "  7                -1  1   2655744  models.common.Conv                      [384, 768, 3, 2]              \n",
            "  8                -1  1   1476864  models.common.SPP                       [768, 768, [5, 9, 13]]        \n",
            "  9                -1  1   4134912  models.common.C3                        [768, 768, 2, False]          \n",
            " 10                -1  1    295680  models.common.Conv                      [768, 384, 1, 1]              \n",
            " 11                -1  1         0  torch.nn.modules.upsampling.Upsample    [None, 2, 'nearest']          \n",
            " 12           [-1, 6]  1         0  models.common.Concat                    [1]                           \n",
            " 13                -1  1   1182720  models.common.C3                        [768, 384, 2, False]          \n",
            " 14                -1  1     74112  models.common.Conv                      [384, 192, 1, 1]              \n",
            " 15                -1  1         0  torch.nn.modules.upsampling.Upsample    [None, 2, 'nearest']          \n",
            " 16           [-1, 4]  1         0  models.common.Concat                    [1]                           \n",
            " 17                -1  1    296448  models.common.C3                        [384, 192, 2, False]          \n",
            " 18                -1  1    332160  models.common.Conv                      [192, 192, 3, 2]              \n",
            " 19          [-1, 14]  1         0  models.common.Concat                    [1]                           \n",
            " 20                -1  1   1035264  models.common.C3                        [384, 384, 2, False]          \n",
            " 21                -1  1   1327872  models.common.Conv                      [384, 384, 3, 2]              \n",
            " 22          [-1, 10]  1         0  models.common.Concat                    [1]                           \n",
            " 23                -1  1   4134912  models.common.C3                        [768, 768, 2, False]          \n",
            " 24      [17, 20, 23]  1     44451  models.yolo.Detect                      [6, [[10, 13, 16, 30, 33, 23], [30, 61, 62, 45, 59, 119], [116, 90, 156, 198, 373, 326]], [192, 384, 768]]\n",
            "Model Summary: 391 layers, 21076611 parameters, 21076611 gradients, 50.5 GFLOPS\n",
            "\n",
            "Transferred 498/506 items from yolov5m.pt\n",
            "Scaled weight_decay = 0.0005\n",
            "Optimizer groups: 86 .bias, 86 conv.weight, 83 other\n",
            "\u001b[34m\u001b[1mtrain: \u001b[0mScanning '/content/train' for images and labels... 1481 found, 0 missing, 50 empty, 0 corrupted:  63% 1481/2357 [00:00<00:00, 2847.59it/s]\u001b[34m\u001b[1mtrain: \u001b[0mWARNING: Ignoring corrupted image and/or label /content/train/335.jpg: duplicate labels\n",
            "\u001b[34m\u001b[1mtrain: \u001b[0mWARNING: Ignoring corrupted image and/or label /content/train/346.jpg: duplicate labels\n",
            "\u001b[34m\u001b[1mtrain: \u001b[0mWARNING: Ignoring corrupted image and/or label /content/train/347.jpg: duplicate labels\n",
            "\u001b[34m\u001b[1mtrain: \u001b[0mScanning '/content/train' for images and labels... 2357 found, 0 missing, 55 empty, 3 corrupted: 100% 2357/2357 [00:00<00:00, 2971.19it/s]\n",
            "\u001b[34m\u001b[1mtrain: \u001b[0mNew cache created: /content/train.cache\n",
            "\u001b[34m\u001b[1mtrain: \u001b[0mCaching images (5.8GB): 100% 2354/2354 [01:15<00:00, 31.07it/s]\n",
            "\u001b[34m\u001b[1mval: \u001b[0mScanning '/content/val' for images and labels... 332 found, 0 missing, 12 empty, 0 corrupted:  70% 332/472 [00:00<00:00, 812.92it/s]\u001b[34m\u001b[1mval: \u001b[0mWARNING: Ignoring corrupted image and/or label /content/val/348.jpg: duplicate labels\n",
            "\u001b[34m\u001b[1mval: \u001b[0mScanning '/content/val' for images and labels... 472 found, 0 missing, 14 empty, 1 corrupted: 100% 472/472 [00:00<00:00, 689.11it/s]\n",
            "\u001b[34m\u001b[1mval: \u001b[0mNew cache created: /content/val.cache\n",
            "\u001b[34m\u001b[1mval: \u001b[0mCaching images (1.2GB): 100% 471/471 [00:21<00:00, 22.34it/s]\n",
            "Plotting labels... \n",
            "\n",
            "\u001b[34m\u001b[1mautoanchor: \u001b[0mAnalyzing anchors... anchors/target = 5.73, Best Possible Recall (BPR) = 1.0000\n",
            "Image sizes 1088 train, 1088 test\n",
            "Using 2 dataloader workers\n",
            "Logging results to runs/train/yolov5s_results\n",
            "Starting training for 30 epochs...\n",
            "\n",
            "     Epoch   gpu_mem       box       obj       cls     total   targets  img_size\n",
            "      0/29     3.88G   0.09549     0.148   0.04164    0.2851        42      1088: 100% 589/589 [03:38<00:00,  2.70it/s]\n",
            "               Class      Images     Targets           P           R      mAP@.5  mAP@.5:.95: 100% 59/59 [00:33<00:00,  1.74it/s]\n",
            "                 all         471    7.17e+03       0.605       0.214       0.127      0.0311\n",
            "\n",
            "     Epoch   gpu_mem       box       obj       cls     total   targets  img_size\n",
            "      1/29     4.15G   0.08006    0.1373   0.02769    0.2451        24      1088: 100% 589/589 [03:26<00:00,  2.85it/s]\n",
            "               Class      Images     Targets           P           R      mAP@.5  mAP@.5:.95: 100% 59/59 [00:13<00:00,  4.37it/s]\n",
            "                 all         471    7.17e+03       0.586       0.307       0.204      0.0622\n",
            "\n",
            "     Epoch   gpu_mem       box       obj       cls     total   targets  img_size\n",
            "      2/29     4.15G   0.07762    0.1477   0.02265     0.248        84      1088: 100% 589/589 [03:25<00:00,  2.86it/s]\n",
            "               Class      Images     Targets           P           R      mAP@.5  mAP@.5:.95: 100% 59/59 [00:15<00:00,  3.71it/s]\n",
            "                 all         471    7.17e+03       0.565       0.313       0.227      0.0658\n",
            "\n",
            "     Epoch   gpu_mem       box       obj       cls     total   targets  img_size\n",
            "      3/29     4.15G   0.07178    0.1375   0.02106    0.2304        23      1088: 100% 589/589 [03:25<00:00,  2.86it/s]\n",
            "               Class      Images     Targets           P           R      mAP@.5  mAP@.5:.95: 100% 59/59 [00:16<00:00,  3.60it/s]\n",
            "                 all         471    7.17e+03       0.633       0.318        0.25      0.0698\n",
            "\n",
            "     Epoch   gpu_mem       box       obj       cls     total   targets  img_size\n",
            "      4/29     4.15G   0.06876    0.1301   0.01734    0.2162        55      1088: 100% 589/589 [03:25<00:00,  2.87it/s]\n",
            "               Class      Images     Targets           P           R      mAP@.5  mAP@.5:.95: 100% 59/59 [00:12<00:00,  4.55it/s]\n",
            "                 all         471    7.17e+03       0.731       0.377       0.363       0.127\n",
            "\n",
            "     Epoch   gpu_mem       box       obj       cls     total   targets  img_size\n",
            "      5/29     4.15G   0.06513    0.1268   0.01541    0.2074        76      1088: 100% 589/589 [03:25<00:00,  2.87it/s]\n",
            "               Class      Images     Targets           P           R      mAP@.5  mAP@.5:.95: 100% 59/59 [00:12<00:00,  4.65it/s]\n",
            "                 all         471    7.17e+03        0.75       0.384        0.39       0.141\n",
            "\n",
            "     Epoch   gpu_mem       box       obj       cls     total   targets  img_size\n",
            "      6/29     4.15G   0.06452    0.1262   0.01485    0.2056        67      1088: 100% 589/589 [03:25<00:00,  2.87it/s]\n",
            "               Class      Images     Targets           P           R      mAP@.5  mAP@.5:.95: 100% 59/59 [00:12<00:00,  4.64it/s]\n",
            "                 all         471    7.17e+03       0.701       0.416       0.393        0.14\n",
            "\n",
            "     Epoch   gpu_mem       box       obj       cls     total   targets  img_size\n",
            "      7/29     4.15G   0.06242    0.1251   0.01421    0.2017        39      1088: 100% 589/589 [03:25<00:00,  2.87it/s]\n",
            "               Class      Images     Targets           P           R      mAP@.5  mAP@.5:.95: 100% 59/59 [00:12<00:00,  4.63it/s]\n",
            "                 all         471    7.17e+03       0.746       0.406       0.414       0.156\n",
            "\n",
            "     Epoch   gpu_mem       box       obj       cls     total   targets  img_size\n",
            "      8/29     4.15G   0.06256    0.1224   0.01343    0.1984        41      1088: 100% 589/589 [03:25<00:00,  2.87it/s]\n",
            "               Class      Images     Targets           P           R      mAP@.5  mAP@.5:.95: 100% 59/59 [00:12<00:00,  4.68it/s]\n",
            "                 all         471    7.17e+03       0.688       0.417        0.37       0.112\n",
            "\n",
            "     Epoch   gpu_mem       box       obj       cls     total   targets  img_size\n",
            "      9/29     4.15G   0.06108    0.1219   0.01348    0.1965        96      1088: 100% 589/589 [03:25<00:00,  2.87it/s]\n",
            "               Class      Images     Targets           P           R      mAP@.5  mAP@.5:.95: 100% 59/59 [00:12<00:00,  4.68it/s]\n",
            "                 all         471    7.17e+03       0.757       0.409       0.424       0.149\n",
            "\n",
            "     Epoch   gpu_mem       box       obj       cls     total   targets  img_size\n",
            "     10/29     4.15G   0.06072    0.1216   0.01271     0.195        32      1088: 100% 589/589 [03:25<00:00,  2.87it/s]\n",
            "               Class      Images     Targets           P           R      mAP@.5  mAP@.5:.95: 100% 59/59 [00:12<00:00,  4.66it/s]\n",
            "                 all         471    7.17e+03       0.728       0.445       0.444       0.171\n",
            "\n",
            "     Epoch   gpu_mem       box       obj       cls     total   targets  img_size\n",
            "     11/29     4.15G   0.06053    0.1219   0.01235    0.1948        72      1088: 100% 589/589 [03:25<00:00,  2.86it/s]\n",
            "               Class      Images     Targets           P           R      mAP@.5  mAP@.5:.95: 100% 59/59 [00:12<00:00,  4.67it/s]\n",
            "                 all         471    7.17e+03       0.718       0.442       0.437       0.165\n",
            "\n",
            "     Epoch   gpu_mem       box       obj       cls     total   targets  img_size\n",
            "     12/29     4.15G   0.05963    0.1199   0.01203    0.1916        24      1088: 100% 589/589 [03:25<00:00,  2.87it/s]\n",
            "               Class      Images     Targets           P           R      mAP@.5  mAP@.5:.95: 100% 59/59 [00:12<00:00,  4.62it/s]\n",
            "                 all         471    7.17e+03       0.745       0.465       0.469       0.183\n",
            "\n",
            "     Epoch   gpu_mem       box       obj       cls     total   targets  img_size\n",
            "     13/29     4.15G    0.0595    0.1215   0.01192    0.1929        52      1088: 100% 589/589 [03:25<00:00,  2.86it/s]\n",
            "               Class      Images     Targets           P           R      mAP@.5  mAP@.5:.95: 100% 59/59 [00:12<00:00,  4.68it/s]\n",
            "                 all         471    7.17e+03       0.764       0.435       0.476       0.192\n",
            "\n",
            "     Epoch   gpu_mem       box       obj       cls     total   targets  img_size\n",
            "     14/29     4.15G   0.05864    0.1185   0.01141    0.1885        53      1088: 100% 589/589 [03:25<00:00,  2.86it/s]\n",
            "               Class      Images     Targets           P           R      mAP@.5  mAP@.5:.95: 100% 59/59 [00:12<00:00,  4.74it/s]\n",
            "                 all         471    7.17e+03       0.763       0.438       0.479       0.192\n",
            "\n",
            "     Epoch   gpu_mem       box       obj       cls     total   targets  img_size\n",
            "     15/29     4.15G    0.0579    0.1187   0.01118    0.1877        80      1088: 100% 589/589 [03:25<00:00,  2.86it/s]\n",
            "               Class      Images     Targets           P           R      mAP@.5  mAP@.5:.95: 100% 59/59 [00:12<00:00,  4.78it/s]\n",
            "                 all         471    7.17e+03       0.809       0.421       0.492       0.195\n",
            "\n",
            "     Epoch   gpu_mem       box       obj       cls     total   targets  img_size\n",
            "     16/29     4.15G   0.05739    0.1214   0.01072    0.1895        37      1088: 100% 589/589 [03:25<00:00,  2.87it/s]\n",
            "               Class      Images     Targets           P           R      mAP@.5  mAP@.5:.95: 100% 59/59 [00:12<00:00,  4.82it/s]\n",
            "                 all         471    7.17e+03       0.781       0.438       0.509       0.198\n",
            "\n",
            "     Epoch   gpu_mem       box       obj       cls     total   targets  img_size\n",
            "     17/29     4.15G    0.0566    0.1152   0.01064    0.1824        53      1088: 100% 589/589 [03:25<00:00,  2.87it/s]\n",
            "               Class      Images     Targets           P           R      mAP@.5  mAP@.5:.95: 100% 59/59 [00:12<00:00,  4.84it/s]\n",
            "                 all         471    7.17e+03       0.724       0.465       0.509       0.206\n",
            "\n",
            "     Epoch   gpu_mem       box       obj       cls     total   targets  img_size\n",
            "     18/29     4.15G   0.05677    0.1171   0.01019     0.184        41      1088: 100% 589/589 [03:25<00:00,  2.87it/s]\n",
            "               Class      Images     Targets           P           R      mAP@.5  mAP@.5:.95: 100% 59/59 [00:12<00:00,  4.82it/s]\n",
            "                 all         471    7.17e+03       0.626       0.565       0.529       0.218\n",
            "\n",
            "     Epoch   gpu_mem       box       obj       cls     total   targets  img_size\n",
            "     19/29     4.15G   0.05593    0.1167    0.0102    0.1828        53      1088: 100% 589/589 [03:25<00:00,  2.87it/s]\n",
            "               Class      Images     Targets           P           R      mAP@.5  mAP@.5:.95: 100% 59/59 [00:12<00:00,  4.90it/s]\n",
            "                 all         471    7.17e+03       0.645       0.553       0.528       0.218\n",
            "\n",
            "     Epoch   gpu_mem       box       obj       cls     total   targets  img_size\n",
            "     20/29     4.15G   0.05541    0.1144  0.009893    0.1797         9      1088: 100% 589/589 [03:25<00:00,  2.87it/s]\n",
            "               Class      Images     Targets           P           R      mAP@.5  mAP@.5:.95: 100% 59/59 [00:12<00:00,  4.90it/s]\n",
            "                 all         471    7.17e+03        0.68       0.552       0.548       0.227\n",
            "\n",
            "     Epoch   gpu_mem       box       obj       cls     total   targets  img_size\n",
            "     21/29     4.15G   0.05477    0.1125  0.009366    0.1766        59      1088: 100% 589/589 [03:25<00:00,  2.87it/s]\n",
            "               Class      Images     Targets           P           R      mAP@.5  mAP@.5:.95: 100% 59/59 [00:11<00:00,  4.93it/s]\n",
            "                 all         471    7.17e+03        0.69       0.568       0.539       0.223\n",
            "\n",
            "     Epoch   gpu_mem       box       obj       cls     total   targets  img_size\n",
            "     22/29     4.15G   0.05466    0.1133  0.009172    0.1771        34      1088: 100% 589/589 [03:25<00:00,  2.87it/s]\n",
            "               Class      Images     Targets           P           R      mAP@.5  mAP@.5:.95: 100% 59/59 [00:11<00:00,  4.93it/s]\n",
            "                 all         471    7.17e+03       0.731       0.537       0.552       0.233\n",
            "\n",
            "     Epoch   gpu_mem       box       obj       cls     total   targets  img_size\n",
            "     23/29     4.15G   0.05394    0.1108  0.009116    0.1738        21      1088: 100% 589/589 [03:25<00:00,  2.87it/s]\n",
            "               Class      Images     Targets           P           R      mAP@.5  mAP@.5:.95: 100% 59/59 [00:12<00:00,  4.91it/s]\n",
            "                 all         471    7.17e+03       0.766       0.529       0.557       0.236\n",
            "\n",
            "     Epoch   gpu_mem       box       obj       cls     total   targets  img_size\n",
            "     24/29     4.15G   0.05369    0.1112  0.008921    0.1738        19      1088: 100% 589/589 [03:25<00:00,  2.87it/s]\n",
            "               Class      Images     Targets           P           R      mAP@.5  mAP@.5:.95: 100% 59/59 [00:11<00:00,  4.94it/s]\n",
            "                 all         471    7.17e+03       0.806       0.509        0.57       0.239\n",
            "\n",
            "     Epoch   gpu_mem       box       obj       cls     total   targets  img_size\n",
            "     25/29     4.15G   0.05375    0.1125  0.008688    0.1749        49      1088: 100% 589/589 [03:25<00:00,  2.87it/s]\n",
            "               Class      Images     Targets           P           R      mAP@.5  mAP@.5:.95: 100% 59/59 [00:11<00:00,  4.97it/s]\n",
            "                 all         471    7.17e+03        0.75       0.571       0.574       0.251\n",
            "\n",
            "     Epoch   gpu_mem       box       obj       cls     total   targets  img_size\n",
            "     26/29     4.15G   0.05328    0.1112  0.008323    0.1728        63      1088: 100% 589/589 [03:25<00:00,  2.87it/s]\n",
            "               Class      Images     Targets           P           R      mAP@.5  mAP@.5:.95: 100% 59/59 [00:11<00:00,  4.97it/s]\n",
            "                 all         471    7.17e+03       0.821       0.507       0.578       0.254\n",
            "\n",
            "     Epoch   gpu_mem       box       obj       cls     total   targets  img_size\n",
            "     27/29     4.15G   0.05272    0.1106  0.008414    0.1717        68      1088: 100% 589/589 [03:25<00:00,  2.87it/s]\n",
            "               Class      Images     Targets           P           R      mAP@.5  mAP@.5:.95: 100% 59/59 [00:11<00:00,  4.95it/s]\n",
            "                 all         471    7.17e+03       0.791       0.554       0.585       0.262\n",
            "\n",
            "     Epoch   gpu_mem       box       obj       cls     total   targets  img_size\n",
            "     28/29     4.15G   0.05182    0.1111  0.008047     0.171        83      1088: 100% 589/589 [03:25<00:00,  2.87it/s]\n",
            "               Class      Images     Targets           P           R      mAP@.5  mAP@.5:.95: 100% 59/59 [00:11<00:00,  5.02it/s]\n",
            "                 all         471    7.17e+03       0.829       0.541       0.597       0.261\n",
            "\n",
            "     Epoch   gpu_mem       box       obj       cls     total   targets  img_size\n",
            "     29/29     4.15G   0.05222    0.1085  0.007954    0.1686        51      1088: 100% 589/589 [03:25<00:00,  2.87it/s]\n",
            "               Class      Images     Targets           P           R      mAP@.5  mAP@.5:.95: 100% 59/59 [00:14<00:00,  4.20it/s]\n",
            "                 all         471    7.17e+03       0.815       0.545       0.602        0.27\n",
            "               Biker         471    2.01e+03       0.666        0.59       0.594       0.195\n",
            "          Pedestrian         471     3.8e+03       0.721       0.521       0.591       0.199\n",
            "       Skateboarders         471          89           1           0      0.0322      0.0145\n",
            "                Cart         471         209       0.759       0.665       0.739       0.353\n",
            "                Cars         471         977       0.872        0.91       0.904       0.465\n",
            "               Buses         471          84       0.874       0.583       0.751       0.394\n",
            "Optimizer stripped from runs/train/yolov5s_results/weights/last.pt, 42.6MB\n",
            "Optimizer stripped from runs/train/yolov5s_results/weights/best.pt, 42.6MB\n",
            "30 epochs completed in 1.838 hours.\n",
            "\n"
          ],
          "name": "stdout"
        }
      ]
    },
    {
      "cell_type": "code",
      "metadata": {
        "id": "WdDldmHxY8dU"
      },
      "source": [
        "\r\n",
        "%load_ext tensorboard\r\n",
        "%tensorboard --logdir runs\r\n"
      ],
      "execution_count": null,
      "outputs": []
    },
    {
      "cell_type": "code",
      "metadata": {
        "colab": {
          "base_uri": "https://localhost:8080/"
        },
        "id": "zszVCpWFRpEx",
        "outputId": "54c23897-eb94-42ed-e3ea-d2eaf837ddf9"
      },
      "source": [
        "import os\r\n",
        "path_labels = \"/content/video-images2\"\r\n",
        "\r\n",
        "try:\r\n",
        "  os.mkdir(path_labels)\r\n",
        "except OSError:\r\n",
        "  print (\"Creation of the directory %s failed\" % path_labels)\r\n",
        "else:\r\n",
        "  print (\"Successfully created the directory %s \" % path_labels)\r\n"
      ],
      "execution_count": null,
      "outputs": [
        {
          "output_type": "stream",
          "text": [
            "Successfully created the directory /content/video-images2 \n"
          ],
          "name": "stdout"
        }
      ]
    },
    {
      "cell_type": "code",
      "metadata": {
        "id": "4FEyhxjNQR-_"
      },
      "source": [
        "import cv2\r\n",
        "vidcap = cv2.VideoCapture('/content/drive/MyDrive/data-yolov5/videos/deathCircle/video1/video.mov')\r\n",
        "success,image = vidcap.read()\r\n",
        "count = 0\r\n",
        "while success:\r\n",
        "  \r\n",
        "  cv2.imwrite(path_labels+\"/%d.jpg\" % count, image)     # save frame as JPEG file      \r\n",
        "  success,image = vidcap.read()\r\n",
        "  print('Read a new frame: ', success)\r\n",
        "  count += 1\r\n",
        "  if count >= 1500:\r\n",
        "    break"
      ],
      "execution_count": null,
      "outputs": []
    },
    {
      "cell_type": "code",
      "metadata": {
        "id": "QvZq8lyhahot"
      },
      "source": [
        "\r\n",
        "%cd /content/yolov5\r\n",
        "!python detect.py --weights /content/yolov5/runs/train/yolov5s_results/weights/best.pt --img 1088 --conf 0.4 --source /content/video-images2\r\n"
      ],
      "execution_count": null,
      "outputs": []
    },
    {
      "cell_type": "code",
      "metadata": {
        "id": "W3SHucysXgOa",
        "colab": {
          "base_uri": "https://localhost:8080/"
        },
        "outputId": "baef7f14-6d44-4edc-bac5-8ff0d36ab249"
      },
      "source": [
        "cwd = os.getcwd()\r\n",
        "print(cwd)"
      ],
      "execution_count": null,
      "outputs": [
        {
          "output_type": "stream",
          "text": [
            "/content/drive/MyDrive/yolov5\n"
          ],
          "name": "stdout"
        }
      ]
    },
    {
      "cell_type": "code",
      "metadata": {
        "id": "sl-6vBVdU8MU",
        "colab": {
          "base_uri": "https://localhost:8080/"
        },
        "outputId": "7cd1709b-3443-4162-e84f-f3e7473dba93"
      },
      "source": [
        "import os\r\n",
        "\r\n",
        "image_folder = '/content/yolov5/runs/detect/exp2'\r\n",
        "video_name = '007video.avi'\r\n",
        "\r\n",
        "images = [img for img in os.listdir(image_folder) if img.endswith(\".jpg\")]\r\n",
        "\r\n",
        "frame = cv2.imread(os.path.join(image_folder, images[0]))\r\n",
        "height, width, layers = frame.shape\r\n",
        "\r\n",
        "video = cv2.VideoWriter(video_name, 0, 29.97, (width,height))\r\n",
        "\r\n",
        "#for image in images:\r\n",
        "#    video.write(cv2.imread(os.path.join(image_folder, image)))\r\n",
        "\r\n",
        "for i in range(1400):\r\n",
        "  img = cv2.imread(\"/content/yolov5/runs/detect/exp2/\" + str(i) + \".jpg\")\r\n",
        "  video.write(img)\r\n",
        "\r\n",
        "cv2.destroyAllWindows()\r\n",
        "video.release()\r\n",
        "from subprocess import call\r\n",
        "out_root = '007video.avi'\r\n",
        "dir = out_root.strip(\".avi\")\r\n",
        "command = \"ffmpeg -i %s.avi %s.mp4\" % (dir, dir) #Use ffmped to compress avi to mp4, note the two paths\r\n",
        "call(command.split())"
      ],
      "execution_count": null,
      "outputs": [
        {
          "output_type": "execute_result",
          "data": {
            "text/plain": [
              "0"
            ]
          },
          "metadata": {
            "tags": []
          },
          "execution_count": 15
        }
      ]
    },
    {
      "cell_type": "code",
      "metadata": {
        "id": "5p8G4yPCYR5k",
        "colab": {
          "base_uri": "https://localhost:8080/"
        },
        "outputId": "6366934a-2141-431f-ca49-ad479e0e96af"
      },
      "source": [
        "from subprocess import call\r\n",
        "out_root = '003video.avi'\r\n",
        "dir = out_root.strip(\".avi\")\r\n",
        "command = \"ffmpeg -i %s.avi %s.mp4\" % (dir, dir) #Use ffmped to compress avi to mp4, note the two paths\r\n",
        "call(command.split())"
      ],
      "execution_count": null,
      "outputs": [
        {
          "output_type": "execute_result",
          "data": {
            "text/plain": [
              "0"
            ]
          },
          "metadata": {
            "tags": []
          },
          "execution_count": 11
        }
      ]
    },
    {
      "cell_type": "code",
      "metadata": {
        "id": "B9kEAc7_bh5u"
      },
      "source": [
        "\r\n",
        "import glob\r\n",
        "from IPython.display import Image, display\r\n",
        "\r\n",
        "for imageName in glob.glob('/content/yolov5/runs/detect/exp/*.jpg'): #assuming JPG\r\n",
        "    display(Image(filename=imageName))\r\n",
        "    print(\"\\n\")\r\n"
      ],
      "execution_count": null,
      "outputs": []
    }
  ]
}