{
  "nbformat": 4,
  "nbformat_minor": 0,
  "metadata": {
    "colab": {
      "name": "stanford-dronedata-yoloV5-part4.ipynb ",
      "provenance": [],
      "collapsed_sections": [],
      "authorship_tag": "ABX9TyN1WXOHWfgCoFFbZf4BD6NH",
      "include_colab_link": true
    },
    "kernelspec": {
      "display_name": "Python 3",
      "name": "python3"
    }
  },
  "cells": [
    {
      "cell_type": "markdown",
      "metadata": {
        "id": "view-in-github",
        "colab_type": "text"
      },
      "source": [
        "<a href=\"https://colab.research.google.com/github/salmanoglubatuhan/yolov5-object-detection-with-stanforddataset/blob/main/stanford_dronedata_yoloV5_part4.ipynb\" target=\"_parent\"><img src=\"https://colab.research.google.com/assets/colab-badge.svg\" alt=\"Open In Colab\"/></a>"
      ]
    },
    {
      "cell_type": "code",
      "metadata": {
        "id": "Boc4jQZ2CDgo"
      },
      "source": [
        "! pip install pyyaml"
      ],
      "execution_count": null,
      "outputs": []
    },
    {
      "cell_type": "code",
      "metadata": {
        "id": "Xc0rWNQo_E1L"
      },
      "source": [
        "from google.colab import drive\r\n",
        "drive.mount(\"/content/drive\")"
      ],
      "execution_count": null,
      "outputs": []
    },
    {
      "cell_type": "code",
      "metadata": {
        "id": "7uPuIgbCEK5U"
      },
      "source": [
        "import os\r\n",
        "path_labels = \"/content/train\"\r\n",
        "\r\n",
        "try:\r\n",
        "  os.mkdir(path_labels)\r\n",
        "except OSError:\r\n",
        "  print (\"Creation of the directory %s failed\" % path_labels)\r\n",
        "else:\r\n",
        "  print (\"Successfully created the directory %s \" % path_labels)\r\n",
        "\r\n",
        "val_path = \"/content/val\"\r\n",
        "os.mkdir(val_path)"
      ],
      "execution_count": null,
      "outputs": []
    },
    {
      "cell_type": "code",
      "metadata": {
        "id": "JC5EY22lmQaq"
      },
      "source": [
        "import cv2\r\n",
        "dataset_size = 2800\r\n",
        "dataset_path = \"/content/drive/MyDrive/data-yolov5\"\r\n",
        "video_count = 0\r\n",
        "frame_counter = 0\r\n",
        "for dirpath, dnames, fnames in os.walk(dataset_path + \"/videos\"):\r\n",
        "    \r\n",
        "    for f in fnames:\r\n",
        "        if f == 'video.mov':\r\n",
        "          video_count += 1\r\n",
        "\r\n",
        "\r\n",
        "\r\n",
        "\r\n",
        "num_frames = int(dataset_size/video_count)\r\n",
        "for dirpath, dnames, fnames in os.walk(dataset_path + \"/videos\"):\r\n",
        "    \r\n",
        "    for f in fnames:\r\n",
        "        if f == 'video.mov':\r\n",
        "          video_path = dirpath + \"/video.mov\"\r\n",
        "          annot_path = dirpath.replace(\"videos\", \"annotations\") + \"/annotations.txt\"\r\n",
        "        print(video_path)\r\n",
        "        print(annot_path)\r\n",
        "          ##### annot procecess #####\r\n",
        "        drone_frames = []\r\n",
        "        with open(annot_path) as f:\r\n",
        "          drone_frames = f.readlines()\r\n",
        "          \r\n",
        "        count3 = 0\r\n",
        "        for line in drone_frames:\r\n",
        "          drone_frames[count3] = drone_frames[count3].split()\r\n",
        "          drone_frames[count3][9] = drone_frames[count3][9].replace('\"', '')\r\n",
        "          if drone_frames[count3][9] == 'Biker':\r\n",
        "            drone_frames[count3][9] = 0\r\n",
        "          elif drone_frames[count3][9] == 'Pedestrian':\r\n",
        "            drone_frames[count3][9] = 1\r\n",
        "          elif drone_frames[count3][9] == 'Skater':\r\n",
        "            drone_frames[count3][9] = 2\r\n",
        "          elif drone_frames[count3][9] == 'Cart':\r\n",
        "            drone_frames[count3][9] = 3\r\n",
        "          elif drone_frames[count3][9] == 'Car':\r\n",
        "            drone_frames[count3][9] = 4\r\n",
        "          elif drone_frames[count3][9] == 'Bus':\r\n",
        "            drone_frames[count3][9] = 5\r\n",
        "          count3 += 1\r\n",
        "          ##### Process the video #####\r\n",
        "        print(len(drone_frames))\r\n",
        "        vidcap = cv2.VideoCapture(video_path)\r\n",
        "        success, image = vidcap.read()\r\n",
        "        frame_count = int(vidcap.get(cv2.CAP_PROP_FRAME_COUNT))\r\n",
        "        numberofstop = frame_count / num_frames\r\n",
        "        count = 0\r\n",
        "        while success:\r\n",
        "          if count % int(numberofstop) == 0:\r\n",
        "            #success,image = vidcap.read()\r\n",
        "            count2 = 0\r\n",
        "            split_ratio = 6\r\n",
        "            if frame_counter % split_ratio == 0:\r\n",
        "              cv2.imwrite(val_path + '/' + \"%d.jpg\" % frame_counter, image)\r\n",
        "            else:\r\n",
        "              cv2.imwrite(path_labels + '/' + \"%d.jpg\" % frame_counter, image)     # save frame as JPEG file    \r\n",
        "              #######annot write ######\r\n",
        "            if  frame_counter % split_ratio == 0:\r\n",
        "              t= open(val_path+ '/' + str(frame_counter) + \".txt\",\"w+\")\r\n",
        "            else:\r\n",
        "              t= open(path_labels+ '/' + str(frame_counter) + \".txt\",\"w+\")\r\n",
        "            for j in range(0,len(drone_frames)):\r\n",
        "              if (int(drone_frames[j][5]) == count) and (int(drone_frames[j][6]) == 0):\r\n",
        "                image_height, image_widht, _ = image.shape\r\n",
        "                x1, x2 = float(drone_frames[j][1])/image_widht, float(drone_frames[j][3])/image_widht\r\n",
        "                y1, y2 =  float(drone_frames[j][2])/image_height,  float(drone_frames[j][4])/image_height\r\n",
        "                bbox_width = x2 - x1\r\n",
        "                bbox_height = y2 - y1\r\n",
        "                t.write(\"%d %s %s %s %s\\n\" % (drone_frames[j][9], x1 + (bbox_width / 2), y1 + (bbox_height / 2), bbox_width, bbox_height))\r\n",
        "            t.close()\r\n",
        "            frame_counter += 1\r\n",
        "              #print('Read a new frame: ', success)\r\n",
        "            count2 += 1\r\n",
        "          success, image = vidcap.read()\r\n",
        "          count += 1\r\n",
        "        print(frame_counter)\r\n",
        "          "
      ],
      "execution_count": null,
      "outputs": []
    },
    {
      "cell_type": "code",
      "metadata": {
        "id": "onHIXsi3HcQv"
      },
      "source": [
        "!rm -rf /content/drone-dataset-12000"
      ],
      "execution_count": null,
      "outputs": []
    },
    {
      "cell_type": "code",
      "metadata": {
        "id": "ta5FNJM8IOz2"
      },
      "source": [
        "!ls -la /content/drone-dataset-12000"
      ],
      "execution_count": null,
      "outputs": []
    },
    {
      "cell_type": "code",
      "metadata": {
        "id": "Cz59UcEkLaXu"
      },
      "source": [
        "!rm -rf /content/.git"
      ],
      "execution_count": null,
      "outputs": []
    },
    {
      "cell_type": "code",
      "metadata": {
        "id": "hKPj6vAAxDWk"
      },
      "source": [
        "import shutil\r\n",
        "shutil.make_archive(\"dataset_3500\", 'zip', \"/content/dataset-3500\")"
      ],
      "execution_count": null,
      "outputs": []
    },
    {
      "cell_type": "code",
      "metadata": {
        "id": "hKXQ8aTSJJvs"
      },
      "source": [
        "import os\r\n",
        "os.system('cd ../../../')\r\n",
        "print(os.getcwd())"
      ],
      "execution_count": null,
      "outputs": []
    },
    {
      "cell_type": "code",
      "metadata": {
        "id": "vROkNK06IthK"
      },
      "source": [
        "%cd /content/drone-dataset-12000"
      ],
      "execution_count": null,
      "outputs": []
    },
    {
      "cell_type": "code",
      "metadata": {
        "id": "XobFjtmR_SeS"
      },
      "source": [
        "!zip -r /content/v.zip /content/train"
      ],
      "execution_count": null,
      "outputs": []
    },
    {
      "cell_type": "code",
      "metadata": {
        "colab": {
          "base_uri": "https://localhost:8080/",
          "height": 16
        },
        "id": "a-rT_oNi_zGr",
        "outputId": "f4914e15-495c-4f6d-fd19-a51d31805de2"
      },
      "source": [
        "from google.colab import files\r\n",
        "files.download(\"/content/val.zip\")"
      ],
      "execution_count": null,
      "outputs": [
        {
          "output_type": "display_data",
          "data": {
            "application/javascript": [
              "\n",
              "    async function download(id, filename, size) {\n",
              "      if (!google.colab.kernel.accessAllowed) {\n",
              "        return;\n",
              "      }\n",
              "      const div = document.createElement('div');\n",
              "      const label = document.createElement('label');\n",
              "      label.textContent = `Downloading \"${filename}\": `;\n",
              "      div.appendChild(label);\n",
              "      const progress = document.createElement('progress');\n",
              "      progress.max = size;\n",
              "      div.appendChild(progress);\n",
              "      document.body.appendChild(div);\n",
              "\n",
              "      const buffers = [];\n",
              "      let downloaded = 0;\n",
              "\n",
              "      const channel = await google.colab.kernel.comms.open(id);\n",
              "      // Send a message to notify the kernel that we're ready.\n",
              "      channel.send({})\n",
              "\n",
              "      for await (const message of channel.messages) {\n",
              "        // Send a message to notify the kernel that we're ready.\n",
              "        channel.send({})\n",
              "        if (message.buffers) {\n",
              "          for (const buffer of message.buffers) {\n",
              "            buffers.push(buffer);\n",
              "            downloaded += buffer.byteLength;\n",
              "            progress.value = downloaded;\n",
              "          }\n",
              "        }\n",
              "      }\n",
              "      const blob = new Blob(buffers, {type: 'application/binary'});\n",
              "      const a = document.createElement('a');\n",
              "      a.href = window.URL.createObjectURL(blob);\n",
              "      a.download = filename;\n",
              "      div.appendChild(a);\n",
              "      a.click();\n",
              "      div.remove();\n",
              "    }\n",
              "  "
            ],
            "text/plain": [
              "<IPython.core.display.Javascript object>"
            ]
          },
          "metadata": {
            "tags": []
          }
        },
        {
          "output_type": "display_data",
          "data": {
            "application/javascript": [
              "download(\"download_b96ba3c0-d56d-4612-a6d7-168ea4d6b134\", \"val.zip\", 80192533)"
            ],
            "text/plain": [
              "<IPython.core.display.Javascript object>"
            ]
          },
          "metadata": {
            "tags": []
          }
        }
      ]
    },
    {
      "cell_type": "code",
      "metadata": {
        "id": "-VvD65Zx_N9t"
      },
      "source": [
        "import cv2\r\n",
        "vidcap = cv2.VideoCapture('/content/drive/MyDrive/data-yolov5/videos/quad/video0/video.mov')\r\n",
        "success,image = vidcap.read()\r\n",
        "count = 0\r\n",
        "split_ratio = 8\r\n",
        "while success:\r\n",
        "  if count % split_ratio == 0:\r\n",
        "    cv2.imwrite(val_path + '/' + \"%d.jpg\" % count, image)\r\n",
        "    success,image = vidcap.read()\r\n",
        "  else:\r\n",
        "    cv2.imwrite(path_labels + '/' + \"%d.jpg\" % count, image)     # save frame as JPEG file      \r\n",
        "    success,image = vidcap.read()\r\n",
        "  #print('Read a new frame: ', success)\r\n",
        "  count += 1\r\n"
      ],
      "execution_count": null,
      "outputs": []
    },
    {
      "cell_type": "code",
      "metadata": {
        "id": "K0EE2QakFxvG"
      },
      "source": [
        "drone_frames = []\r\n",
        "with open('/content/drive/MyDrive/data-yolov5/annotations/quad/video0/annotations.txt') as f:\r\n",
        "    drone_frames = f.readlines()\r\n",
        "count = 0\r\n",
        "for line in drone_frames:\r\n",
        "    drone_frames[count] = drone_frames[count].split()\r\n",
        "    drone_frames[count][9] = drone_frames[count][9].replace('\"', '')\r\n",
        "    if drone_frames[count][9] == 'Biker':\r\n",
        "      drone_frames[count][9] = 1\r\n",
        "    elif drone_frames[count][9] == 'Pedestrian':\r\n",
        "      drone_frames[count][9] = 2\r\n",
        "    elif drone_frames[count][9] == 'Skater':\r\n",
        "      drone_frames[count][9] = 3\r\n",
        "    elif drone_frames[count][9] == 'Cart':\r\n",
        "      drone_frames[count][9] = 4\r\n",
        "    elif drone_frames[count][9] == 'Cars':\r\n",
        "      drone_frames[count][9] = 5\r\n",
        "    elif drone_frames[count][9] == 'Buses':\r\n",
        "      drone_frames[count][9] = 6\r\n",
        "    count += 1"
      ],
      "execution_count": null,
      "outputs": []
    },
    {
      "cell_type": "code",
      "metadata": {
        "colab": {
          "base_uri": "https://localhost:8080/"
        },
        "id": "cZZZuFXRCX0m",
        "outputId": "550d6bd9-4803-4088-e817-5663905e5fb8"
      },
      "source": [
        "frameNo = 0\r\n",
        "print(drone_frames[0][9])\r\n",
        "count_val = 0\r\n",
        "count_train = 0\r\n",
        "for i in range(508):\r\n",
        "  if  i % split_ratio == 0:\r\n",
        "    f= open(val_path+ '/' + str(i) + \".txt\",\"w+\")\r\n",
        "    count_val = 1 + count_val\r\n",
        "  else:\r\n",
        "    f= open(path_labels+ '/' + str(i) + \".txt\",\"w+\")\r\n",
        "    count_train = count_train + 1\r\n",
        "  for j in range(0,len(drone_frames)):\r\n",
        "    if (int(drone_frames[j][5]) == i) and (int(drone_frames[j][6]) == 0):\r\n",
        "      image_widht = 1938\r\n",
        "      image_height = 1088\r\n",
        "      x1, x2 = float(drone_frames[j][1])/1983, float(drone_frames[j][3])/1983\r\n",
        "      y1, y2 =  float(drone_frames[j][2])/1088,  float(drone_frames[j][4])/1088\r\n",
        "      bbox_width = x2 - x1\r\n",
        "      bbox_height = y2 - y1\r\n",
        "      f.write(\"%d %s %s %s %s\\n\" % (drone_frames[j][9], x1 + (bbox_width / 2), y1 + (bbox_height / 2), bbox_width, bbox_height))\r\n",
        "  f.close()"
      ],
      "execution_count": null,
      "outputs": [
        {
          "output_type": "stream",
          "text": [
            "2\n"
          ],
          "name": "stdout"
        }
      ]
    },
    {
      "cell_type": "code",
      "metadata": {
        "id": "KW1kfdg8UiRP"
      },
      "source": [
        "print(count_val)\r\n",
        "print(count_train)"
      ],
      "execution_count": null,
      "outputs": []
    }
  ]
}